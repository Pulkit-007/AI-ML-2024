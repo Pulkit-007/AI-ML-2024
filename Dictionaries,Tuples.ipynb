{
 "cells": [
  {
   "cell_type": "code",
   "execution_count": 1,
   "id": "37d58bcd-bcd4-49ac-85ec-2252380dc72d",
   "metadata": {},
   "outputs": [],
   "source": [
    "dic={}"
   ]
  },
  {
   "cell_type": "code",
   "execution_count": 2,
   "id": "0714f77b-434b-4353-8ae8-f26fa1238249",
   "metadata": {},
   "outputs": [
    {
     "data": {
      "text/plain": [
       "dict"
      ]
     },
     "execution_count": 2,
     "metadata": {},
     "output_type": "execute_result"
    }
   ],
   "source": [
    "type(dic)"
   ]
  },
  {
   "cell_type": "code",
   "execution_count": 3,
   "id": "b9257e97-76c0-474f-96a0-ca22e7366e36",
   "metadata": {},
   "outputs": [],
   "source": [
    "set={1,2,3,4,5}"
   ]
  },
  {
   "cell_type": "code",
   "execution_count": 4,
   "id": "073d62b8-3a75-438d-b7f1-4c4577aca913",
   "metadata": {},
   "outputs": [
    {
     "data": {
      "text/plain": [
       "set"
      ]
     },
     "execution_count": 4,
     "metadata": {},
     "output_type": "execute_result"
    }
   ],
   "source": [
    "type(set)"
   ]
  },
  {
   "cell_type": "code",
   "execution_count": 5,
   "id": "5af0814c-846a-4cae-a1d3-24cf0cb7cb10",
   "metadata": {},
   "outputs": [],
   "source": [
    "##Let create a dictionary\n",
    "dict={ \"Car1\":\"Audi\",\"Car2\":\"BMW\",\"Car3\":\"Honda\"}"
   ]
  },
  {
   "cell_type": "code",
   "execution_count": 6,
   "id": "1305170b-4ddc-42f2-81a4-13bc6778d929",
   "metadata": {},
   "outputs": [
    {
     "data": {
      "text/plain": [
       "'Audi'"
      ]
     },
     "execution_count": 6,
     "metadata": {},
     "output_type": "execute_result"
    }
   ],
   "source": [
    "##access the elements of the dictionary \n",
    "dict[\"Car1\"]"
   ]
  },
  {
   "cell_type": "code",
   "execution_count": 8,
   "id": "2b2a80b3-60ef-4272-8cfc-2f9565c1efb9",
   "metadata": {},
   "outputs": [
    {
     "name": "stdout",
     "output_type": "stream",
     "text": [
      "Car1\n",
      "Car2\n",
      "Car3\n"
     ]
    }
   ],
   "source": [
    "#by default keys print hogi\n",
    "for x in dict:\n",
    "    print(x)"
   ]
  },
  {
   "cell_type": "code",
   "execution_count": 9,
   "id": "955c3a43-b193-4846-88dc-14969990ddca",
   "metadata": {},
   "outputs": [
    {
     "name": "stdout",
     "output_type": "stream",
     "text": [
      "Audi\n",
      "BMW\n",
      "Honda\n"
     ]
    }
   ],
   "source": [
    "#we can even loop throughout the dictionaries values\n",
    "for x in dict.values():\n",
    "    print(x)"
   ]
  },
  {
   "cell_type": "code",
   "execution_count": 10,
   "id": "77a80d45-d7ae-4866-9e58-ece66b395eed",
   "metadata": {},
   "outputs": [
    {
     "name": "stdout",
     "output_type": "stream",
     "text": [
      "('Car1', 'Audi')\n",
      "('Car2', 'BMW')\n",
      "('Car3', 'Honda')\n"
     ]
    }
   ],
   "source": [
    "#we can also check both keys and values\n",
    "for x in dict.items():\n",
    "    print(x)"
   ]
  },
  {
   "cell_type": "code",
   "execution_count": 11,
   "id": "8ff16597-347e-4437-92c9-7d3cba20a98a",
   "metadata": {},
   "outputs": [],
   "source": [
    "# adding items in dictionaries\n",
    "dict[\"Car4\"]='Audi R8'"
   ]
  },
  {
   "cell_type": "code",
   "execution_count": 12,
   "id": "f113b619-61d4-4909-960a-134d2f310369",
   "metadata": {},
   "outputs": [
    {
     "data": {
      "text/plain": [
       "{'Car1': 'Audi', 'Car2': 'BMW', 'Car3': 'Honda', 'Car4': 'Audi R8'}"
      ]
     },
     "execution_count": 12,
     "metadata": {},
     "output_type": "execute_result"
    }
   ],
   "source": [
    "dict"
   ]
  },
  {
   "cell_type": "code",
   "execution_count": 13,
   "id": "9ccc7f18-3ab5-4206-ae32-a0ab5c4021eb",
   "metadata": {},
   "outputs": [],
   "source": [
    "dict[\"Car1\"]='Maruti'"
   ]
  },
  {
   "cell_type": "code",
   "execution_count": 14,
   "id": "d8433247-1a18-4998-80e5-09eb6bad1e2a",
   "metadata": {},
   "outputs": [
    {
     "data": {
      "text/plain": [
       "{'Car1': 'Maruti', 'Car2': 'BMW', 'Car3': 'Honda', 'Car4': 'Audi R8'}"
      ]
     },
     "execution_count": 14,
     "metadata": {},
     "output_type": "execute_result"
    }
   ],
   "source": [
    "dict"
   ]
  },
  {
   "cell_type": "code",
   "execution_count": 21,
   "id": "4ed98792-1454-4a34-8563-96ec3f0b773a",
   "metadata": {},
   "outputs": [],
   "source": [
    "#NESTED DICTIONARY"
   ]
  },
  {
   "cell_type": "code",
   "execution_count": 17,
   "id": "51b27519-eb50-4127-90c8-0daf371c5e59",
   "metadata": {},
   "outputs": [],
   "source": [
    "car1_model={'Mercedes':1960}\n",
    "car2_model={'Audi':1970}\n",
    "car3_model={'Ambassador':1980}\n",
    "\n",
    "car_type={'car1':car1_model,'car2':car2_model,'car3':car3_model}"
   ]
  },
  {
   "cell_type": "code",
   "execution_count": 18,
   "id": "a6dbd1ec-8e07-4877-b0e0-3da04cdf60a8",
   "metadata": {},
   "outputs": [
    {
     "name": "stdout",
     "output_type": "stream",
     "text": [
      "{'car1': {'Mercedes': 1960}, 'car2': {'Audi': 1970}, 'car3': {'Ambassador': 1980}}\n"
     ]
    }
   ],
   "source": [
    "print(car_type)"
   ]
  },
  {
   "cell_type": "code",
   "execution_count": 19,
   "id": "133169f4-3e09-47a9-9e68-ca2f218b680f",
   "metadata": {},
   "outputs": [
    {
     "name": "stdout",
     "output_type": "stream",
     "text": [
      "{'Mercedes': 1960}\n"
     ]
    }
   ],
   "source": [
    "## Accessing the items in the dictionary\n",
    "\n",
    "print(car_type['car1'])"
   ]
  },
  {
   "cell_type": "code",
   "execution_count": 20,
   "id": "69e8110d-0a0d-457c-bf74-bfcaca0bfc16",
   "metadata": {},
   "outputs": [
    {
     "name": "stdout",
     "output_type": "stream",
     "text": [
      "1960\n"
     ]
    }
   ],
   "source": [
    "print(car_type['car1']['Mercedes'])\n"
   ]
  },
  {
   "cell_type": "code",
   "execution_count": 22,
   "id": "48bf4ffd-d7bd-4182-b90c-b8d44edd73a7",
   "metadata": {},
   "outputs": [],
   "source": [
    "#TUPLES"
   ]
  },
  {
   "cell_type": "code",
   "execution_count": 23,
   "id": "bd3f5789-d6f2-4100-bdc8-822d13ab45f1",
   "metadata": {},
   "outputs": [],
   "source": [
    "my_tuple=tuple()"
   ]
  },
  {
   "cell_type": "code",
   "execution_count": 24,
   "id": "febafbdc-9a9d-4f19-8536-4cb76042191f",
   "metadata": {},
   "outputs": [
    {
     "data": {
      "text/plain": [
       "tuple"
      ]
     },
     "execution_count": 24,
     "metadata": {},
     "output_type": "execute_result"
    }
   ],
   "source": [
    "type(my_tuple)"
   ]
  },
  {
   "cell_type": "code",
   "execution_count": 25,
   "id": "81a72717-2658-43c6-b5f6-7de6c1b5b5bb",
   "metadata": {},
   "outputs": [],
   "source": [
    "my_tuple=('Pulkit',\"Sharma\",'Johnny')"
   ]
  },
  {
   "cell_type": "code",
   "execution_count": 26,
   "id": "6361c775-6984-4eaf-ba6d-e53398139d52",
   "metadata": {},
   "outputs": [
    {
     "name": "stdout",
     "output_type": "stream",
     "text": [
      "('Pulkit', 'Sharma', 'Johnny')\n"
     ]
    }
   ],
   "source": [
    "print(my_tuple)"
   ]
  },
  {
   "cell_type": "code",
   "execution_count": 27,
   "id": "78b158da-24d6-4875-b3c7-e07ef02eaadc",
   "metadata": {},
   "outputs": [
    {
     "ename": "TypeError",
     "evalue": "'tuple' object does not support item assignment",
     "output_type": "error",
     "traceback": [
      "\u001b[1;31m---------------------------------------------------------------------------\u001b[0m",
      "\u001b[1;31mTypeError\u001b[0m                                 Traceback (most recent call last)",
      "Cell \u001b[1;32mIn[27], line 1\u001b[0m\n\u001b[1;32m----> 1\u001b[0m my_tuple[\u001b[38;5;241m0\u001b[39m]\u001b[38;5;241m=\u001b[39m(\u001b[38;5;124m'\u001b[39m\u001b[38;5;124mHello\u001b[39m\u001b[38;5;124m'\u001b[39m)\n",
      "\u001b[1;31mTypeError\u001b[0m: 'tuple' object does not support item assignment"
     ]
    }
   ],
   "source": [
    "my_tuple[0]=('Hello')"
   ]
  },
  {
   "cell_type": "code",
   "execution_count": 28,
   "id": "a6137b3c-12ed-433b-98ed-c799398bb5c5",
   "metadata": {},
   "outputs": [],
   "source": [
    "my_tuple=('Hello','World')"
   ]
  },
  {
   "cell_type": "code",
   "execution_count": 29,
   "id": "3285d512-bdb4-4523-9aa7-c2ff58eaf0e9",
   "metadata": {},
   "outputs": [
    {
     "name": "stdout",
     "output_type": "stream",
     "text": [
      "('Hello', 'World')\n"
     ]
    }
   ],
   "source": [
    "print(my_tuple)"
   ]
  },
  {
   "cell_type": "code",
   "execution_count": 30,
   "id": "b443bd1d-6c49-43fd-bb69-15d054225605",
   "metadata": {},
   "outputs": [
    {
     "data": {
      "text/plain": [
       "0"
      ]
     },
     "execution_count": 30,
     "metadata": {},
     "output_type": "execute_result"
    }
   ],
   "source": [
    "#inbuilt functions\n",
    "my_tuple.count('Pulkit')"
   ]
  },
  {
   "cell_type": "code",
   "execution_count": 32,
   "id": "78adc49f-2e43-4e05-8237-5ae03c22cff6",
   "metadata": {},
   "outputs": [
    {
     "data": {
      "text/plain": [
       "1"
      ]
     },
     "execution_count": 32,
     "metadata": {},
     "output_type": "execute_result"
    }
   ],
   "source": [
    "my_tuple.index('World')"
   ]
  },
  {
   "cell_type": "code",
   "execution_count": null,
   "id": "65b564c6-a7a6-41ed-861f-2c4e5380aa0b",
   "metadata": {},
   "outputs": [],
   "source": []
  }
 ],
 "metadata": {
  "kernelspec": {
   "display_name": "Python 3 (ipykernel)",
   "language": "python",
   "name": "python3"
  },
  "language_info": {
   "codemirror_mode": {
    "name": "ipython",
    "version": 3
   },
   "file_extension": ".py",
   "mimetype": "text/x-python",
   "name": "python",
   "nbconvert_exporter": "python",
   "pygments_lexer": "ipython3",
   "version": "3.11.7"
  }
 },
 "nbformat": 4,
 "nbformat_minor": 5
}
